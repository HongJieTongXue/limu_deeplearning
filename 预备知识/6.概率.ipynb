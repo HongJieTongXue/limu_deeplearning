{
 "cells": [
  {
   "cell_type": "code",
   "execution_count": 7,
   "metadata": {
    "collapsed": true
   },
   "outputs": [],
   "source": [
    "%matplotlib inline\n",
    "import torch\n",
    "from torch.distributions import multinomial\n",
    "from d2l import torch as d2l\n"
   ]
  },
  {
   "cell_type": "code",
   "execution_count": 8,
   "outputs": [
    {
     "data": {
      "text/plain": "tensor([0., 0., 0., 1., 0., 0.])"
     },
     "execution_count": 8,
     "metadata": {},
     "output_type": "execute_result"
    }
   ],
   "source": [
    "fair_probs = torch.ones([6]) / 6    #骰子每一面出现的概率\n",
    "multinomial.Multinomial(1, fair_probs).sample()  #投骰子这个动作,第一个参数是次数，第二个是概率"
   ],
   "metadata": {
    "collapsed": false,
    "pycharm": {
     "name": "#%%\n"
    }
   }
  },
  {
   "cell_type": "code",
   "execution_count": 9,
   "outputs": [
    {
     "data": {
      "text/plain": "tensor([2., 1., 1., 4., 1., 1.])"
     },
     "execution_count": 9,
     "metadata": {},
     "output_type": "execute_result"
    }
   ],
   "source": [
    "multinomial.Multinomial(10, fair_probs).sample()\n"
   ],
   "metadata": {
    "collapsed": false,
    "pycharm": {
     "name": "#%%\n"
    }
   }
  },
  {
   "cell_type": "code",
   "execution_count": 10,
   "outputs": [
    {
     "data": {
      "text/plain": "tensor([0.1590, 0.1450, 0.1810, 0.1790, 0.1630, 0.1730])"
     },
     "execution_count": 10,
     "metadata": {},
     "output_type": "execute_result"
    }
   ],
   "source": [
    "# 将结果存储为32位浮点数以进行除法\n",
    "counts = multinomial.Multinomial(1000, fair_probs).sample()\n",
    "counts / 1000  # 相对频率作为估计值\n"
   ],
   "metadata": {
    "collapsed": false,
    "pycharm": {
     "name": "#%%\n"
    }
   }
  },
  {
   "cell_type": "code",
   "execution_count": 11,
   "outputs": [],
   "source": [
    "counts = multinomial.Multinomial(10, fair_probs).sample((500,))\n",
    "cum_counts = counts.cumsum(dim=0)\n",
    "estimates = cum_counts / cum_counts.sum(dim=1, keepdims=True)\n",
    "\n",
    "# d2l.set_figsize((6, 4.5))\n",
    "# for i in range(6):\n",
    "#     d2l.plt.plot(estimates[:, i].numpy(),\n",
    "#                  label=(\"P(die=\" + str(i + 1) + \")\"))\n",
    "# d2l.plt.axhline(y=0.167, color='black', linestyle='dashed')\n",
    "# d2l.plt.gca().set_xlabel('Groups of experiments')\n",
    "# d2l.plt.gca().set_ylabel('Estimated probability')\n",
    "# d2l.plt.legend();"
   ],
   "metadata": {
    "collapsed": false,
    "pycharm": {
     "name": "#%%\n"
    }
   }
  },
  {
   "cell_type": "code",
   "execution_count": 14,
   "outputs": [
    {
     "name": "stdout",
     "output_type": "stream",
     "text": [
      "tensor([[1., 2., 0., 3., 1., 3.],\n",
      "        [1., 1., 2., 1., 5., 0.],\n",
      "        [0., 2., 2., 3., 3., 0.],\n",
      "        ...,\n",
      "        [0., 3., 1., 2., 2., 2.],\n",
      "        [2., 3., 0., 1., 3., 1.],\n",
      "        [2., 1., 2., 0., 4., 1.]])\n",
      "tensor([[  1.,   2.,   0.,   3.,   1.,   3.],\n",
      "        [  2.,   3.,   2.,   4.,   6.,   3.],\n",
      "        [  2.,   5.,   4.,   7.,   9.,   3.],\n",
      "        ...,\n",
      "        [780., 863., 818., 818., 860., 841.],\n",
      "        [782., 866., 818., 819., 863., 842.],\n",
      "        [784., 867., 820., 819., 867., 843.]])\n"
     ]
    }
   ],
   "source": [
    "print(counts)\n",
    "print(cum_counts)\n"
   ],
   "metadata": {
    "collapsed": false,
    "pycharm": {
     "name": "#%%\n"
    }
   }
  }
 ],
 "metadata": {
  "kernelspec": {
   "display_name": "Python 3",
   "language": "python",
   "name": "python3"
  },
  "language_info": {
   "codemirror_mode": {
    "name": "ipython",
    "version": 2
   },
   "file_extension": ".py",
   "mimetype": "text/x-python",
   "name": "python",
   "nbconvert_exporter": "python",
   "pygments_lexer": "ipython2",
   "version": "2.7.6"
  }
 },
 "nbformat": 4,
 "nbformat_minor": 0
}